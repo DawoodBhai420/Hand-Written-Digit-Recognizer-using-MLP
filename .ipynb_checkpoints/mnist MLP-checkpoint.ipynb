{
 "cells": [
  {
   "cell_type": "code",
   "execution_count": 84,
   "id": "91cbf552",
   "metadata": {},
   "outputs": [
    {
     "data": {
      "application/vnd.jupyter.widget-view+json": {
       "model_id": "fbfb643712e346f0b4894859eab12e68",
       "version_major": 2,
       "version_minor": 0
      },
      "text/plain": [
       "  0%|          | 0/6000 [00:00<?, ?it/s]"
      ]
     },
     "metadata": {},
     "output_type": "display_data"
    },
    {
     "data": {
      "application/vnd.jupyter.widget-view+json": {
       "model_id": "0314ab2caa384821977d81fd4ab8d13b",
       "version_major": 2,
       "version_minor": 0
      },
      "text/plain": [
       "  0%|          | 0/1000 [00:00<?, ?it/s]"
      ]
     },
     "metadata": {},
     "output_type": "display_data"
    },
    {
     "name": "stdout",
     "output_type": "stream",
     "text": [
      "Accuracy= 0.9514\n"
     ]
    }
   ],
   "source": [
    "import numpy as np\n",
    "import torch\n",
    "import torch.nn.functional as F\n",
    "from torchvision import datasets, transforms\n",
    "from tqdm.notebook import tqdm\n",
    "\n",
    "train_data = datasets.MNIST(root=\"./dataset\", train=True, transform=transforms.ToTensor(), download=True)\n",
    "test_data = datasets.MNIST(root=\"./dataset\", train=False, transform=transforms.ToTensor(), download=True)\n",
    "\n",
    "train_loader = torch.utils.data.DataLoader(train_data, batch_size=10, shuffle=False)\n",
    "test_loader = torch.utils.data.DataLoader(test_data, batch_size=10, shuffle=True)\n",
    "\n",
    "class MLP_Model(nn.Module):\n",
    "    def __init__(self):\n",
    "        super().__init__()\n",
    "        self.submodel_1 = nn.Linear(784,500)\n",
    "        self.submodel_2 = nn.Linear(500,10)\n",
    "    \n",
    "    def forward(self,x):\n",
    "        z = F.relu(self.submodel_1(x))\n",
    "        y = F.relu(self.submodel_2(z))\n",
    "        return y\n",
    "\n",
    "model = MLP_Model()\n",
    "optimizer = torch.optim.SGD(model.parameters(), lr=0.1)\n",
    "\n",
    "for images, labels in tqdm(train_loader):\n",
    "    optimizer.zero_grad()\n",
    "    x = images.view(-1,784)\n",
    "    y = model.forward(x)\n",
    "    loss = F.cross_entropy(y,labels)\n",
    "    loss.backward()\n",
    "    optimizer.step()\n",
    "\n",
    "correct = 0\n",
    "n = len(test_data)\n",
    "\n",
    "for images,labels in tqdm(test_loader):\n",
    "    for image,label in zip(images,labels):\n",
    "        x = image.view(-1,784)\n",
    "        y = model.forward(x)\n",
    "        prediction = torch.argmax(y,dim=1)\n",
    "        if(prediction == label):\n",
    "            correct=correct+1\n",
    "\n",
    "print(\"Accuracy= {}\".format(correct/n))\n",
    "\n"
   ]
  },
  {
   "cell_type": "code",
   "execution_count": null,
   "id": "5f484ed9",
   "metadata": {},
   "outputs": [],
   "source": []
  }
 ],
 "metadata": {
  "kernelspec": {
   "display_name": "Python 3",
   "language": "python",
   "name": "python3"
  },
  "language_info": {
   "codemirror_mode": {
    "name": "ipython",
    "version": 3
   },
   "file_extension": ".py",
   "mimetype": "text/x-python",
   "name": "python",
   "nbconvert_exporter": "python",
   "pygments_lexer": "ipython3",
   "version": "3.6.13"
  }
 },
 "nbformat": 4,
 "nbformat_minor": 5
}
