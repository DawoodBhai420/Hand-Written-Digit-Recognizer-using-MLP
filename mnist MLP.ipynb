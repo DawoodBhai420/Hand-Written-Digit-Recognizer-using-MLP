{
 "cells": [
  {
   "cell_type": "code",
   "execution_count": 87,
   "id": "91cbf552",
   "metadata": {},
   "outputs": [
    {
     "data": {
      "application/vnd.jupyter.widget-view+json": {
       "model_id": "c119b30f6ab54580b4aa8ff6d053104f",
       "version_major": 2,
       "version_minor": 0
      },
      "text/plain": [
       "  0%|          | 0/6000 [00:00<?, ?it/s]"
      ]
     },
     "metadata": {},
     "output_type": "display_data"
    },
    {
     "data": {
      "application/vnd.jupyter.widget-view+json": {
       "model_id": "b5d1feeaf8ad4580870c83f4796714cf",
       "version_major": 2,
       "version_minor": 0
      },
      "text/plain": [
       "  0%|          | 0/1000 [00:00<?, ?it/s]"
      ]
     },
     "metadata": {},
     "output_type": "display_data"
    },
    {
     "name": "stdout",
     "output_type": "stream",
     "text": [
      "Accuracy= 96.07%\n"
     ]
    }
   ],
   "source": [
    "import numpy as np\n",
    "import torch\n",
    "import torch.nn.functional as F\n",
    "from torchvision import datasets, transforms\n",
    "from tqdm.notebook import tqdm\n",
    "\n",
    "train_data = datasets.MNIST(root=\"./dataset\", train=True, transform=transforms.ToTensor(), download=True)\n",
    "test_data = datasets.MNIST(root=\"./dataset\", train=False, transform=transforms.ToTensor(), download=True)\n",
    "\n",
    "train_loader = torch.utils.data.DataLoader(train_data, batch_size=10, shuffle=False)\n",
    "test_loader = torch.utils.data.DataLoader(test_data, batch_size=10, shuffle=True)\n",
    "\n",
    "class MLP_Model(nn.Module):\n",
    "    def __init__(self):\n",
    "        super().__init__()\n",
    "        self.submodel_1 = nn.Linear(784,500)\n",
    "        self.submodel_2 = nn.Linear(500,10)\n",
    "    \n",
    "    def forward(self,x):\n",
    "        z = F.relu(self.submodel_1(x))\n",
    "        y = F.relu(self.submodel_2(z))\n",
    "        return y\n",
    "\n",
    "model = MLP_Model()\n",
    "optimizer = torch.optim.SGD(model.parameters(), lr=0.1)\n",
    "\n",
    "for images, labels in tqdm(train_loader):\n",
    "    optimizer.zero_grad()\n",
    "    x = images.view(-1,784)\n",
    "    y = model.forward(x)\n",
    "    loss = F.cross_entropy(y,labels)\n",
    "    loss.backward()\n",
    "    optimizer.step()\n",
    "\n",
    "correct = 0\n",
    "n = len(test_data)\n",
    "\n",
    "for images,labels in tqdm(test_loader):\n",
    "    for image,label in zip(images,labels):\n",
    "        x = image.view(-1,784)\n",
    "        y = model.forward(x)\n",
    "        prediction = torch.argmax(y,dim=1)\n",
    "        if(prediction == label):\n",
    "            correct=correct+1\n",
    "\n",
    "print(f\"Accuracy= {(correct/n)*100}%\")\n",
    "\n"
   ]
  },
  {
   "cell_type": "code",
   "execution_count": null,
   "id": "60c24bbc",
   "metadata": {},
   "outputs": [],
   "source": []
  }
 ],
 "metadata": {
  "kernelspec": {
   "display_name": "Python 3",
   "language": "python",
   "name": "python3"
  },
  "language_info": {
   "codemirror_mode": {
    "name": "ipython",
    "version": 3
   },
   "file_extension": ".py",
   "mimetype": "text/x-python",
   "name": "python",
   "nbconvert_exporter": "python",
   "pygments_lexer": "ipython3",
   "version": "3.6.13"
  }
 },
 "nbformat": 4,
 "nbformat_minor": 5
}
